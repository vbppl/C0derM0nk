{
 "cells": [
  {
   "cell_type": "code",
   "execution_count": 10,
   "metadata": {},
   "outputs": [
    {
     "name": "stdout",
     "output_type": "stream",
     "text": [
      "Hello World! This is Tom Cruise\n"
     ]
    }
   ],
   "source": [
    "def hello(test):\n",
    "    print(\"Hello World! This is \" + test)\n",
    "\n",
    "hello(\"Tom Cruise\")"
   ]
  },
  {
   "cell_type": "code",
   "execution_count": 12,
   "metadata": {},
   "outputs": [
    {
     "name": "stdout",
     "output_type": "stream",
     "text": [
      "False\n"
     ]
    }
   ],
   "source": [
    "num = int(input(\"Enter a number: \"))\n",
    "temp = num\n",
    "rev = 0\n",
    "\n",
    "\n",
    "while(num > 0):\n",
    "    dig = num % 10\n",
    "    rev = rev * 10 + dig\n",
    "    num = num // 10\n",
    "\n",
    "\n",
    "if(temp == rev):\n",
    "    print(\"True\")\n",
    "else:\n",
    "    print(\"False\")"
   ]
  },
  {
   "cell_type": "code",
   "execution_count": 20,
   "metadata": {},
   "outputs": [
    {
     "name": "stdout",
     "output_type": "stream",
     "text": [
      "True\n"
     ]
    }
   ],
   "source": [
    "def isPalindrome(string):\n",
    "    return string == string[::-1] # Returing True and False\n",
    "\n",
    "\n",
    "palin = isPalindrome(input(\"Enter the String: \"))\n",
    "\n",
    "if palin:\n",
    "    print(\"True\")\n",
    "else:\n",
    "    print(\"False\")"
   ]
  },
  {
   "cell_type": "code",
   "execution_count": 27,
   "metadata": {},
   "outputs": [
    {
     "name": "stdout",
     "output_type": "stream",
     "text": [
      "       *\n",
      "      ***\n",
      "     *****\n",
      "    *******\n",
      "   *********\n",
      "  ***********\n",
      " *************\n",
      "***************\n"
     ]
    }
   ],
   "source": [
    "# Function to print pyramid pattern\n",
    "def pattern(row):\n",
    "    for i in range(1, row + 1):\n",
    "        for j in range(row - i):\n",
    "            print(\" \", end=\"\")\n",
    "       \n",
    "        for k in range(1, 2*i):\n",
    "            print(\"*\", end=\"\")\n",
    "        print()\n",
    "row = int(input(\"Enter no of rows: \"))   \n",
    "pattern(row)"
   ]
  },
  {
   "cell_type": "code",
   "execution_count": 41,
   "metadata": {},
   "outputs": [
    {
     "name": "stdout",
     "output_type": "stream",
     "text": [
      "* \n",
      "* * \n",
      "* * * \n",
      "* * * * \n",
      "* * * * * \n"
     ]
    }
   ],
   "source": [
    "# Function to print a half pyramid pattern\n",
    "def pattern(row):\n",
    "    for i in range(1, row + 1):\n",
    "        for j in range(1, i + 1):\n",
    "            print(\"* \", end=\"\")\n",
    "        print(\"\")\n",
    "\n",
    "row = int(input(\"Enter no of rows: \"))   \n",
    "pattern(row)"
   ]
  },
  {
   "cell_type": "code",
   "execution_count": 42,
   "metadata": {},
   "outputs": [
    {
     "name": "stdout",
     "output_type": "stream",
     "text": [
      "1 \n",
      "3 3 \n",
      "5 5 5 \n",
      "7 7 7 7 \n",
      "9 9 9 9 9 \n"
     ]
    }
   ],
   "source": [
    "def pattern(row):\n",
    "\ti = 1\n",
    "\twhile i <= row:\n",
    "\t\tj = 1\n",
    "\t\twhile j <= i:\n",
    "\t\t\tprint((i * 2 - 1), end=\" \")\n",
    "\t\t\tj = j + 1\n",
    "\t\ti = i + 1\n",
    "\t\tprint('')\n",
    "\n",
    "rows = int(input(\"Enter no of rows: \"))\n",
    "pattern(row)"
   ]
  },
  {
   "cell_type": "code",
   "execution_count": 47,
   "metadata": {},
   "outputs": [
    {
     "name": "stdout",
     "output_type": "stream",
     "text": [
      "1  \n",
      "2  4  \n",
      "3  6  9  \n",
      "4  8  12  16  \n",
      "5  10  15  20  25  \n"
     ]
    }
   ],
   "source": [
    "def pattern(row):\n",
    "    for i in range(1, row + 1):\n",
    "        for j in range(1, i + 1):\n",
    "            square = i * j\n",
    "            print(i * j, end='  ')\n",
    "        print()\n",
    "\n",
    "row = int(input(\"Enter the number of rows \"))\n",
    "pattern(row)\n"
   ]
  },
  {
   "cell_type": "code",
   "execution_count": 53,
   "metadata": {},
   "outputs": [
    {
     "name": "stdout",
     "output_type": "stream",
     "text": [
      "*  \n",
      "* *  \n",
      "* * *  \n",
      "* * * *  \n",
      "* * * * *  \n",
      " \n",
      "* * * * *  \n",
      "* * * *  \n",
      "* * *  \n",
      "* *  \n",
      "*  \n",
      " \n"
     ]
    }
   ],
   "source": [
    "row = int(input(\"Enter the number of rows \"))\n",
    "for i in range(0, row):\n",
    "    for j in range(0, i + 1):\n",
    "        print(\"*\", end=' ')\n",
    "    print(\" \")\n",
    "\n",
    "print(\" \")\n",
    "\n",
    "for i in range(row + 1, 0, -1):\n",
    "    for j in range(0, i - 1):\n",
    "        print(\"*\", end=' ')\n",
    "    print(\" \")"
   ]
  },
  {
   "cell_type": "code",
   "execution_count": 52,
   "metadata": {},
   "outputs": [
    {
     "name": "stdout",
     "output_type": "stream",
     "text": [
      "A  \n",
      "B C  \n",
      "D E F  \n",
      "G H I J  \n",
      "K L M N O  \n",
      "P Q R S T U  \n",
      "V W X Y Z [ \\  \n"
     ]
    }
   ],
   "source": [
    "ascii_number = 65\n",
    "row = 7\n",
    "for i in range(0, row):\n",
    "    for j in range(0, i + 1):\n",
    "        character = chr(ascii_number)\n",
    "        print(character, end=' ')\n",
    "        ascii_number += 1\n",
    "    print(\" \")\n"
   ]
  },
  {
   "cell_type": "code",
   "execution_count": 58,
   "metadata": {},
   "outputs": [
    {
     "name": "stdout",
     "output_type": "stream",
     "text": [
      "Fibonacci Series: 0 1 1 2 3 5 8 13 \n"
     ]
    }
   ],
   "source": [
    "num = int(input(\"Enter the length of series: \"))\n",
    "\n",
    "n1, n2 = 0, 1\n",
    "print(\"Fibonacci Series:\", n1, n2, end=\" \")\n",
    "for i in range(2, num):\n",
    "    n3 = n1 + n2\n",
    "    n1 = n2\n",
    "    n2 = n3\n",
    "    print(n3, end=\" \")\n",
    "\n",
    "print()"
   ]
  },
  {
   "cell_type": "code",
   "execution_count": 62,
   "metadata": {},
   "outputs": [
    {
     "name": "stdout",
     "output_type": "stream",
     "text": [
      "Fibonacci Series: 0 1 1 2 3 5 8 13 "
     ]
    }
   ],
   "source": [
    "def fibonacciSeries(i):\n",
    "\tif i <= 1:\n",
    "\t\treturn i\n",
    "\telse:\n",
    "\t\treturn (fibonacciSeries(i - 1) + fibonacciSeries(i - 2))\n",
    "\n",
    "num = int(input(\"Enter the length of series: \"))\n",
    "#if num <=0:\n",
    "# print(\"Please enter a Positive Number\")\n",
    "#else:\n",
    "print(\"Fibonacci Series:\", end=\" \")\n",
    "for i in range(num):\n",
    "\tprint(fibonacciSeries(i), end=\" \")"
   ]
  },
  {
   "cell_type": "code",
   "execution_count": 69,
   "metadata": {},
   "outputs": [
    {
     "name": "stdout",
     "output_type": "stream",
     "text": [
      "False\n"
     ]
    }
   ],
   "source": [
    "num = int(input(\"Enter the length of series: \"))\n",
    "temp = num\n",
    "digit, sum = 0, 0\n",
    "order = len(str(num))\n",
    "for i in range(order):\n",
    "  digit = int(num%10)\n",
    "  num = num/10\n",
    "  sum += pow(digit,order)\n",
    "if sum == temp:\n",
    "  print(\"True\")\n",
    "else:\n",
    "  print(\"False\")"
   ]
  },
  {
   "cell_type": "code",
   "execution_count": 9,
   "metadata": {},
   "outputs": [
    {
     "name": "stdout",
     "output_type": "stream",
     "text": [
      "Factors: 1, 2, 3, 5, 6, 10, 15, 30, "
     ]
    }
   ],
   "source": [
    "def factor(n) :\n",
    "    i = 1\n",
    "    while i <= n :\n",
    "        if (n % i==0) :\n",
    "            print (i,end=\", \")\n",
    "        i = i + 1\n",
    "         \n",
    "n = int(input(\"Enter the Number: \"))\n",
    "print (\"Factors:\", end = \" \")\n",
    "factor(n)"
   ]
  },
  {
   "cell_type": "code",
   "execution_count": 3,
   "metadata": {},
   "outputs": [
    {
     "name": "stdout",
     "output_type": "stream",
     "text": [
      "It's an Automorphic Number\n"
     ]
    }
   ],
   "source": [
    "num = int(input(\"Enter the number: \"))\n",
    "square = pow(num, 2)\n",
    "mod = pow(10, len(str(num)))\n",
    "\n",
    "if square % mod == num:\n",
    "    print(\"It's an Automorphic Number\")\n",
    "else:\n",
    "    print(\"It's not an Automorphic Number\")"
   ]
  },
  {
   "cell_type": "code",
   "execution_count": 1,
   "metadata": {},
   "outputs": [
    {
     "name": "stdout",
     "output_type": "stream",
     "text": [
      "1. Fahrenheit to Celsius\n",
      "2. Celsius to Fahrenheit\n",
      "Temprature in Celsius:  30.0\n"
     ]
    }
   ],
   "source": [
    "print(\"1. Fahrenheit to Celsius\")\n",
    "print(\"2. Celsius to Fahrenheit\") \n",
    "choice = input(\"Choose 1 or 2 \")\n",
    "\n",
    "while True:\n",
    "\tif choice == \"1\":\n",
    "\t\ttemp = int(input(\"**Enter temperature in Fahrenheit to convert it into Celsius**\"))\n",
    "\t\ttemp = (temp - 32) / 1.8\n",
    "\t\tprint(\"Temprature in Celsius: \", temp)\n",
    "\t\tbreak\n",
    "\telif choice == \"2\":\n",
    "\t\ttemp = int(input(\"**Enter temperature in Celsius to convert it into Fahrenheit**\"))\n",
    "\t\ttemp = (temp * 1.8) + 32\n",
    "\t\tprint(\"Temprature in Fahrenheit: \", temp)\n",
    "\t\tbreak\n",
    "\t#else:\n",
    "\t#\tprint(\"You must choose between 1 or 2\")"
   ]
  },
  {
   "cell_type": "code",
   "execution_count": 8,
   "metadata": {},
   "outputs": [
    {
     "name": "stdout",
     "output_type": "stream",
     "text": [
      "Element is present at index 2\n"
     ]
    }
   ],
   "source": [
    "def binarySearch(array, x, low, high):\n",
    "\n",
    "    if high >= low:\n",
    "\n",
    "        mid = low + (high - low)//2\n",
    "\n",
    "        # If found at mid, then return it\n",
    "        if array[mid] == x:\n",
    "            return mid\n",
    "\n",
    "        # Search the left half\n",
    "        elif array[mid] > x:\n",
    "            return binarySearch(array, x, low, mid-1)\n",
    "\n",
    "        # Search the right half\n",
    "        else:\n",
    "            return binarySearch(array, x, mid + 1, high)\n",
    "\n",
    "    else:\n",
    "        return -1\n",
    "\n",
    "array = []\n",
    "n = int(input(\"Enter number of elements: \"))\n",
    " \n",
    "# iterating till the range\n",
    "for i in range(0, n):\n",
    "    temp = int(input())\n",
    "    # adding the element\n",
    "    array.append(temp)  \n",
    "\n",
    "x = int(input(\"Enter number to search: \") )\n",
    "\n",
    "result = binarySearch(array, x, 0, len(array)-1)\n",
    "\n",
    "if result != -1:\n",
    "    print(\"Element is present at index \" + str(result))\n",
    "else:\n",
    "    print(\"Not found\")\n"
   ]
  }
 ],
 "metadata": {
  "kernelspec": {
   "display_name": "Python 3",
   "language": "python",
   "name": "python3"
  },
  "language_info": {
   "codemirror_mode": {
    "name": "ipython",
    "version": 3
   },
   "file_extension": ".py",
   "mimetype": "text/x-python",
   "name": "python",
   "nbconvert_exporter": "python",
   "pygments_lexer": "ipython3",
   "version": "3.9.6"
  }
 },
 "nbformat": 4,
 "nbformat_minor": 2
}
